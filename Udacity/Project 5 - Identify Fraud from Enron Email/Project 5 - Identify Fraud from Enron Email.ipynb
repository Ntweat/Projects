{
 "cells": [
  {
   "cell_type": "markdown",
   "metadata": {},
   "source": [
    "# Project 5 - Identify Fraud from Enron Email"
   ]
  },
  {
   "cell_type": "markdown",
   "metadata": {},
   "source": [
    "## Background Information\n",
    "\n",
    "Enron Corporation was an American energy, commodities, and services company. During 2000, Fortune named Enron \"America's Most Innovative Company\" and the end of 2001, it became bankrupt as a result of an accounting fraud. A lot of Enron data is now in the public domain, including tens of thousands of emails and financial data of executives.\n",
    "\n",
    "For this project we will analyze the Enron email and financial data of 146 executives at Enron. We will identify a person of interest (POI), a person who was indicted for fraud. This report will cover the following:\n",
    "\n",
    "1. Understanding the Enron Data.\n",
    "2. Feature selection.\n",
    "3. Algorithm analysis\n",
    "4. Validation and Evaluation"
   ]
  }
 ],
 "metadata": {
  "kernelspec": {
   "display_name": "Python 2",
   "language": "python",
   "name": "python2"
  },
  "language_info": {
   "codemirror_mode": {
    "name": "ipython",
    "version": 2
   },
   "file_extension": ".py",
   "mimetype": "text/x-python",
   "name": "python",
   "nbconvert_exporter": "python",
   "pygments_lexer": "ipython2",
   "version": "2.7.13"
  }
 },
 "nbformat": 4,
 "nbformat_minor": 2
}
