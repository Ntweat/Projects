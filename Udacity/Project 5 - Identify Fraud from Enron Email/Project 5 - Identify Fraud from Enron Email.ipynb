{
 "cells": [
  {
   "cell_type": "markdown",
   "metadata": {},
   "source": [
    "# Project 5 - Identify Fraud from Enron Email"
   ]
  },
  {
   "cell_type": "markdown",
   "metadata": {},
   "source": [
    "## Background Information\n",
    "\n",
    "Enron Corporation was an American energy, commodities, and services company. During 2000, Fortune named Enron \"America's Most Innovative Company\" and the end of 2001, it became bankrupt as a result of an accounting fraud. A lot of Enron data is now in the public domain, including tens of thousands of emails and financial data of executives.\n",
    "\n",
    "For this project we will analyze the Enron email and financial data of 146 executives at Enron. We will identify a person of interest (POI), a person who was indicted for fraud. This report will cover the following:\n",
    "\n",
    "1. Understanding the Enron Data.\n",
    "2. Feature selection.\n",
    "3. Algorithm analysis\n",
    "4. Validation and Evaluation"
   ]
  },
  {
   "cell_type": "code",
   "execution_count": 7,
   "metadata": {
    "collapsed": true
   },
   "outputs": [],
   "source": [
    "# Import libraries\n",
    "import os\n",
    "from IPython.display import Image\n",
    "%matplotlib inline\n",
    "import matplotlib.pyplot as plt\n",
    "import sys\n",
    "import pickle\n",
    "import numpy as np\n",
    "import pandas as pd\n",
    "\n",
    "from sklearn import preprocessing\n",
    "from time import time\n",
    "from sklearn.naive_bayes import GaussianNB\n",
    "from sklearn.metrics import accuracy_score\n",
    "from sklearn.grid_search import GridSearchCV\n",
    "from sklearn.metrics import precision_score\n",
    "from sklearn.metrics import recall_score\n",
    "\n",
    "sys.path.append(\"tools/\")\n",
    "sys.path.append(\"final_project/\")\n",
    "from feature_format import featureFormat\n",
    "from feature_format import targetFeatureSplit\n",
    "from tester import dump_classifier_and_data\n",
    "\n",
    "\n",
    "\n",
    "\n"
   ]
  },
  {
   "cell_type": "code",
   "execution_count": 8,
   "metadata": {
    "collapsed": true
   },
   "outputs": [],
   "source": [
    "# Create a feature list with first one bein POI\n",
    "features_list = ['poi','salary']\n",
    "\n",
    "#load the dataset\n",
    "with open(\"final_project/final_project_dataset.pkl\", \"r\") as data_file:\n",
    "    data_dict = pickle.load(data_file)\n",
    "\n",
    "### Store to my_dataset for easy export below.\n",
    "my_dataset = data_dict\n",
    "\n",
    "\n",
    "### Extract features and labels from dataset for local testing\n",
    "data = featureFormat(my_dataset, features_list, sort_keys = True)\n",
    "labels, features = targetFeatureSplit(data)\n",
    "\n",
    "clf = None  #just for dmping not to crash\n",
    "\n",
    "#Dumping classifier etc\n",
    "dump_classifier_and_data(clf, my_dataset, features_list)"
   ]
  },
  {
   "cell_type": "markdown",
   "metadata": {},
   "source": [
    "#### Data Exploration\n",
    "\n",
    "In this section we will look at the following (from UDacity rubric)\n",
    "1. total number of data points\n",
    "2. allocation across classes (POI/non-POI)\n",
    "3. number of features used\n",
    "4. are there features with many missing values? etc."
   ]
  },
  {
   "cell_type": "code",
   "execution_count": 9,
   "metadata": {},
   "outputs": [
    {
     "name": "stdout",
     "output_type": "stream",
     "text": [
      "Total Number of data points:  146\n",
      "Number of Features:  21\n",
      "Number of POIS: 18\n",
      "Number of NON-POIS: 128\n",
      "Percentage of POIS: 12.3287671233%\n",
      "Number of POIS with NAN Total Payments: 0\n",
      "Number of NAN Email: 35\n",
      "Number of NAN Total Payments: 21\n",
      "Number of NAN Salary: 51\n",
      "Number of NAN to messages: 60\n",
      "Number of NAN Deferred payments: 107\n",
      "Number of NAN Exercised Stock Options: 44\n",
      "Number of NAN bonus: 64\n",
      "Number of NAN restricted stocks: 36\n",
      "Number of NAN shared receipt with poi: 60\n",
      "Number of NAN restricted stock deferred: 128\n",
      "Number of NAN total stock value: 20\n",
      "Number of NAN expenses: 51\n",
      "Number of NAN loan advances: 142\n",
      "Number of NAN from messages: 60\n",
      "Number of NAN other: 53\n",
      "Number of NAN from this person to poi: 60\n",
      "Number of NAN director fees: 129\n",
      "Number of NAN deferred income: 97\n",
      "Number of NAN long term incenties: 80\n",
      "Number of NAN from poi to this person: 60\n"
     ]
    }
   ],
   "source": [
    "print \"Total Number of data points:  \" + str(len(my_dataset))\n",
    "print \"Number of Features:  \"  + str(len(my_dataset[my_dataset.keys()[0]]))\n",
    "\n",
    "#Allocation between POI / Non POI\n",
    "\n",
    "pois = 0\n",
    "NANPois = 0\n",
    "\n",
    "for i in my_dataset:\n",
    "    if my_dataset[i]['poi'] == True:\n",
    "        pois += 1\n",
    "        if my_dataset[i]['total_payments'] == 'Nan':\n",
    "            NANPois += 1\n",
    "\n",
    "# NaN information\n",
    "\n",
    "NaNTotalpayments = 0\n",
    "NaNSalary = 0\n",
    "NaNSal = 0\n",
    "NaNEmail = 0\n",
    "NaNtoMess = 0\n",
    "NaNDefpay =0\n",
    "NaNStockOp = 0\n",
    "NaNBonus = 0\n",
    "NaNRestStock = 0\n",
    "NaNSharedPoi = 0\n",
    "NaNRestStockDef = 0\n",
    "NaNTotStock = 0\n",
    "NaNExp = 0\n",
    "NaNLoanAdv = 0\n",
    "NaNfromMess = 0 \n",
    "NaNOthers = 0\n",
    "NaNFromPerstoPOI = 0\n",
    "NaNDirectFees = 0\n",
    "NaNDefIncome = 0\n",
    "NaNLongTermIncent = 0\n",
    "NaNfromPOItoPerson = 0\n",
    "\n",
    "\n",
    "for i in my_dataset:\n",
    "\tif my_dataset[i]['total_payments'] == 'NaN':\n",
    "\t\tNaNTotalpayments += 1\n",
    "\tif my_dataset[i]['salary'] == 'NaN':\n",
    "\t\tNaNSalary += 1\n",
    "\tif my_dataset[i]['email_address'] == 'NaN':\n",
    "\t\tNaNEmail += 1\n",
    "\tif my_dataset[i]['to_messages'] == 'NaN':\n",
    "\t\tNaNtoMess += 1\n",
    "\tif my_dataset[i]['deferral_payments'] == 'NaN':\n",
    "\t\tNaNDefpay += 1\n",
    "\tif my_dataset[i]['exercised_stock_options'] == 'NaN':\n",
    "\t\tNaNStockOp += 1\n",
    "\tif my_dataset[i]['bonus'] == 'NaN':\n",
    "\t\tNaNBonus += 1\n",
    "\tif my_dataset[i]['restricted_stock'] == 'NaN':\n",
    "\t\tNaNRestStock += 1\n",
    "\tif my_dataset[i]['shared_receipt_with_poi'] == 'NaN':\n",
    "\t\tNaNSharedPoi += 1\n",
    "\tif my_dataset[i]['restricted_stock_deferred'] == 'NaN':\n",
    "\t\tNaNRestStockDef += 1\n",
    "\tif my_dataset[i]['total_stock_value'] == 'NaN':\n",
    "\t\tNaNTotStock += 1\n",
    "\tif my_dataset[i]['expenses'] == 'NaN':\n",
    "\t\tNaNExp += 1\n",
    "        \n",
    "\tif my_dataset[i]['loan_advances'] == 'NaN':\n",
    "\t\tNaNLoanAdv += 1\n",
    "\tif my_dataset[i]['from_messages'] == 'NaN':\n",
    "\t\tNaNfromMess += 1\n",
    "\tif my_dataset[i]['other'] == 'NaN':\n",
    "\t\tNaNOthers += 1\n",
    "\tif my_dataset[i]['from_this_person_to_poi'] == 'NaN':\n",
    "\t\tNaNFromPerstoPOI += 1\n",
    "\tif my_dataset[i]['director_fees'] == 'NaN':\n",
    "\t\tNaNDirectFees += 1\n",
    "\tif my_dataset[i]['deferred_income'] == 'NaN':\n",
    "\t\tNaNDefIncome += 1\n",
    "\tif my_dataset[i]['long_term_incentive'] == 'NaN':\n",
    "\t\tNaNLongTermIncent += 1\n",
    "\tif my_dataset[i]['from_poi_to_this_person'] == 'NaN':\n",
    "\t\tNaNfromPOItoPerson += 1\n",
    "\n",
    "        \n",
    "print \"Number of POIS: \" + str(pois)\n",
    "print \"Number of NON-POIS: \"+ str(len(my_dataset) - pois)\n",
    "print \"Percentage of POIS: \" + str((float(pois)/len(my_dataset) *100)) + \"%\"\n",
    "print \"Number of POIS with NAN Total Payments: \" + str(NANPois)\n",
    "print \"Number of NAN Email: \" + str(NaNEmail)\n",
    "print \"Number of NAN Total Payments: \" + str(NaNTotalpayments)\n",
    "print \"Number of NAN Salary: \" + str(NaNSalary)\n",
    "print \"Number of NAN to messages: \" + str(NaNtoMess)\n",
    "print \"Number of NAN Deferred payments: \" + str(NaNDefpay)\n",
    "print \"Number of NAN Exercised Stock Options: \" + str(NaNStockOp)\n",
    "print \"Number of NAN bonus: \" + str(NaNBonus)\n",
    "print \"Number of NAN restricted stocks: \" + str(NaNRestStock)\n",
    "print \"Number of NAN shared receipt with poi: \" + str(NaNSharedPoi)\n",
    "print \"Number of NAN restricted stock deferred: \" + str(NaNRestStockDef)\n",
    "print \"Number of NAN total stock value: \" + str(NaNTotStock)\n",
    "print \"Number of NAN expenses: \" + str(NaNExp)\n",
    "print \"Number of NAN loan advances: \" + str(NaNLoanAdv)\n",
    "print \"Number of NAN from messages: \" + str(NaNfromMess)\n",
    "print \"Number of NAN other: \" + str(NaNOthers)\n",
    "print \"Number of NAN from this person to poi: \" + str(NaNFromPerstoPOI)\n",
    "print \"Number of NAN director fees: \" + str(NaNDirectFees)\n",
    "print \"Number of NAN deferred income: \" + str(NaNDefIncome)\n",
    "print \"Number of NAN long term incenties: \" + str(NaNLongTermIncent)\n",
    "print \"Number of NAN from poi to this person: \" + str(NaNfromPOItoPerson)\n"
   ]
  },
  {
   "cell_type": "markdown",
   "metadata": {},
   "source": [
    "### Outliers"
   ]
  },
  {
   "cell_type": "code",
   "execution_count": 11,
   "metadata": {},
   "outputs": [
    {
     "data": {
      "image/png": "[encoded data removed]",
      "text/plain": [
       "<matplotlib.figure.Figure at 0x10abe6210>"
      ]
     },
     "metadata": {},
     "output_type": "display_data"
    }
   ],
   "source": [
    "features = [\"salary\", \"bonus\"]\n",
    "data = featureFormat(data_dict, features)\n",
    "\n",
    "for point in data:\n",
    "    salary = point[0]\n",
    "    bonus = point[1]\n",
    "    plt.scatter(salary, bonus)\n",
    "\n",
    "plt.xlabel(\"Salary\")\n",
    "plt.ylabel(\"Bonus\")\n",
    "plt.show()\n",
    "\n"
   ]
  },
  {
   "cell_type": "markdown",
   "metadata": {
    "collapsed": true
   },
   "source": [
    "As we can see from the above graph that there is at least one outlier. Let us nw check what these outliers might be and check the graph after clearing the outliers"
   ]
  },
  {
   "cell_type": "code",
   "execution_count": 20,
   "metadata": {},
   "outputs": [
    {
     "name": "stdout",
     "output_type": "stream",
     "text": [
      "[('SKILLING JEFFREY K', 1111258), ('LAY KENNETH L', 1072321), ('FREVERT MARK A', 1060932), ('PICKERING MARK R', 655037)]\n"
     ]
    },
    {
     "data": {
      "image/png": "[encoded data removed]",
      "text/plain": [
       "<matplotlib.figure.Figure at 0x10b2f9c10>"
      ]
     },
     "metadata": {},
     "output_type": "display_data"
    }
   ],
   "source": [
    "data_dict.pop('TOTAL', 0)\n",
    "features = [\"salary\", \"bonus\", \"poi\"]\n",
    "data = featureFormat(data_dict, features)\n",
    "\n",
    "\n",
    "outliers = []\n",
    "for key in data_dict:\n",
    "    val = data_dict[key]['salary']\n",
    "    if val == 'NaN':\n",
    "        continue\n",
    "    outliers.append((key, int(val)))\n",
    "\n",
    "outliers_final = (sorted(outliers,key=lambda x:x[1],reverse=True)[:4])\n",
    "\n",
    "print outliers_final\n",
    "\n",
    "\n",
    "for point in data:\n",
    "    salary = point[0]\n",
    "    bonus = point[1]\n",
    "    #plt.scatter(salary,bonus)\n",
    "    if point[2] == 1:\n",
    "        plt.scatter(salary,bonus,color='red')\n",
    "    else:\n",
    "        plt.scatter(salary,bonus,color='Blue')\n",
    "            \n",
    "    \n",
    "plt.xlabel(\"Salary\")\n",
    "plt.ylabel(\"Bonus\")\n",
    "plt.show()"
   ]
  },
  {
   "cell_type": "code",
   "execution_count": null,
   "metadata": {
    "collapsed": true
   },
   "outputs": [],
   "source": []
  }
 ],
 "metadata": {
  "kernelspec": {
   "display_name": "mainpython",
   "language": "python",
   "name": "mainpython"
  },
  "language_info": {
   "codemirror_mode": {
    "name": "ipython",
    "version": 2
   },
   "file_extension": ".py",
   "mimetype": "text/x-python",
   "name": "python",
   "nbconvert_exporter": "python",
   "pygments_lexer": "ipython2",
   "version": "2.7.11"
  }
 },
 "nbformat": 4,
 "nbformat_minor": 2
}
