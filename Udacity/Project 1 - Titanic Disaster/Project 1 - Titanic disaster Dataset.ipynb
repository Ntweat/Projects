{
 "cells": [
  {
   "cell_type": "markdown",
   "metadata": {},
   "source": [
    "# Project 1 - Titanic Data Analysis\n",
    "\n",
    "The motive of the test is to perform a preliminary data wrangling and analysis on Titanic dataset from Kraggle\n",
    "\n",
    "**Titanic Data** - Contains demographics and passenger information from 891 of the 2224 passengers and crew on board the Titanic. \n",
    "\n",
    "**Question**\n",
    "1. What factors made people more likely to survive?\n",
    "\n",
    "I would like to extend the stated question into the following questions:\n",
    "1. Was sex of the person a factor for survival?\n",
    "2. Was age of the person a factor for survival?\n",
    "3. Was Socio Economic class of the person a factor for survival?\n",
    "4. Was port of embarkment a factore for survival?\n",
    "5. Was the fact that you had relatives with you on board a factor? \n"
   ]
  },
  {
   "cell_type": "markdown",
   "metadata": {},
   "source": [
    "## Data Description\n",
    "\n",
    "|<center>Variable            |     <center>    Defination                                       |     <center>     Key                      |\n",
    "|--------------------|----------------------------------------------------------|-----------------------------------|\n",
    "|<center>survival            |         Survival                                         |         0 = No, 1 = Yes           |\n",
    "|<center>pclass              |         Ticket Class                                     |    1 = 1st, 2 = 2nd, 3 = 3rd      |\n",
    "|<center>name                |         Name                                             |                                   |\n",
    "|<center>sex                 |         Sex                                              |                                   |\n",
    "|<center>age                 |          Age in years                                    |                                   |\n",
    "|<center>sibsp               |         Number of siblings / spouses aboard the Titanic  |                                   |\n",
    "|<center>parch               |         Number of parents / children aboard the Titanic  |                                   |\n",
    "|<center>ticket              |         Ticket number\t                                |                                   |\n",
    "|<center>fare                |         Passenger fare                                   |                                   |\n",
    "|<center>cabin     |         Cabin number                                     |                                   |\n",
    "|<center>embarked            |         Port of Embarkation                          |C=Cherbourg, Q=Queenstown,S=Southampton|\n",
    "\n",
    "</center>"
   ]
  },
  {
   "cell_type": "markdown",
   "metadata": {},
   "source": [
    "## Variable Notes\n",
    "**pclass:** A proxy for socio-economic status (SES)\n",
    "1st = Upper\n",
    "2nd = Middle\n",
    "3rd = Lower\n",
    "\n",
    "**age:** Age is fractional if less than 1. If the age is estimated, is it in the form of xx.5\n",
    "\n",
    "**sibsp:** The dataset defines family relations in this way...\n",
    "Sibling = brother, sister, stepbrother, stepsister\n",
    "Spouse = husband, wife (mistresses and fiancés were ignored)\n",
    "\n",
    "**parch:** The dataset defines family relations in this way...\n",
    "Parent = mother, father\n",
    "Child = daughter, son, stepdaughter, stepson\n",
    "Some children travelled only with a nanny, therefore parch=0 for them.\n",
    "\n",
    "*Taken from Kaggle*"
   ]
  },
  {
   "cell_type": "markdown",
   "metadata": {},
   "source": [
    "## Data Wrangling\n"
   ]
  },
  {
   "cell_type": "code",
   "execution_count": 1,
   "metadata": {
    "collapsed": true
   },
   "outputs": [],
   "source": [
    "#Import all the libraries\n",
    "import numpy as np\n",
    "import pandas as pd\n",
    "%matplotlib inline\n",
    "import matplotlib as plt\n",
    "import matplotlib.pyplot as pltt\n",
    "import seaborn as sns\n",
    "import scipy.stats as sp"
   ]
  },
  {
   "cell_type": "code",
   "execution_count": 2,
   "metadata": {},
   "outputs": [
    {
     "data": {
      "text/html": [
       "<div>\n",
       "<table border=\"1\" class=\"dataframe\">\n",
       "  <thead>\n",
       "    <tr style=\"text-align: right;\">\n",
       "      <th></th>\n",
       "      <th>PassengerId</th>\n",
       "      <th>Survived</th>\n",
       "      <th>Pclass</th>\n",
       "      <th>Name</th>\n",
       "      <th>Sex</th>\n",
       "      <th>Age</th>\n",
       "      <th>SibSp</th>\n",
       "      <th>Parch</th>\n",
       "      <th>Ticket</th>\n",
       "      <th>Fare</th>\n",
       "      <th>Cabin</th>\n",
       "      <th>Embarked</th>\n",
       "    </tr>\n",
       "  </thead>\n",
       "  <tbody>\n",
       "    <tr>\n",
       "      <th>0</th>\n",
       "      <td>1</td>\n",
       "      <td>0</td>\n",
       "      <td>3</td>\n",
       "      <td>Braund, Mr. Owen Harris</td>\n",
       "      <td>male</td>\n",
       "      <td>22.0</td>\n",
       "      <td>1</td>\n",
       "      <td>0</td>\n",
       "      <td>A/5 21171</td>\n",
       "      <td>7.2500</td>\n",
       "      <td>NaN</td>\n",
       "      <td>S</td>\n",
       "    </tr>\n",
       "    <tr>\n",
       "      <th>1</th>\n",
       "      <td>2</td>\n",
       "      <td>1</td>\n",
       "      <td>1</td>\n",
       "      <td>Cumings, Mrs. John Bradley (Florence Briggs Th...</td>\n",
       "      <td>female</td>\n",
       "      <td>38.0</td>\n",
       "      <td>1</td>\n",
       "      <td>0</td>\n",
       "      <td>PC 17599</td>\n",
       "      <td>71.2833</td>\n",
       "      <td>C85</td>\n",
       "      <td>C</td>\n",
       "    </tr>\n",
       "    <tr>\n",
       "      <th>2</th>\n",
       "      <td>3</td>\n",
       "      <td>1</td>\n",
       "      <td>3</td>\n",
       "      <td>Heikkinen, Miss. Laina</td>\n",
       "      <td>female</td>\n",
       "      <td>26.0</td>\n",
       "      <td>0</td>\n",
       "      <td>0</td>\n",
       "      <td>STON/O2. 3101282</td>\n",
       "      <td>7.9250</td>\n",
       "      <td>NaN</td>\n",
       "      <td>S</td>\n",
       "    </tr>\n",
       "    <tr>\n",
       "      <th>3</th>\n",
       "      <td>4</td>\n",
       "      <td>1</td>\n",
       "      <td>1</td>\n",
       "      <td>Futrelle, Mrs. Jacques Heath (Lily May Peel)</td>\n",
       "      <td>female</td>\n",
       "      <td>35.0</td>\n",
       "      <td>1</td>\n",
       "      <td>0</td>\n",
       "      <td>113803</td>\n",
       "      <td>53.1000</td>\n",
       "      <td>C123</td>\n",
       "      <td>S</td>\n",
       "    </tr>\n",
       "    <tr>\n",
       "      <th>4</th>\n",
       "      <td>5</td>\n",
       "      <td>0</td>\n",
       "      <td>3</td>\n",
       "      <td>Allen, Mr. William Henry</td>\n",
       "      <td>male</td>\n",
       "      <td>35.0</td>\n",
       "      <td>0</td>\n",
       "      <td>0</td>\n",
       "      <td>373450</td>\n",
       "      <td>8.0500</td>\n",
       "      <td>NaN</td>\n",
       "      <td>S</td>\n",
       "    </tr>\n",
       "  </tbody>\n",
       "</table>\n",
       "</div>"
      ],
      "text/plain": [
       "   PassengerId  Survived  Pclass  \\\n",
       "0            1         0       3   \n",
       "1            2         1       1   \n",
       "2            3         1       3   \n",
       "3            4         1       1   \n",
       "4            5         0       3   \n",
       "\n",
       "                                                Name     Sex   Age  SibSp  \\\n",
       "0                            Braund, Mr. Owen Harris    male  22.0      1   \n",
       "1  Cumings, Mrs. John Bradley (Florence Briggs Th...  female  38.0      1   \n",
       "2                             Heikkinen, Miss. Laina  female  26.0      0   \n",
       "3       Futrelle, Mrs. Jacques Heath (Lily May Peel)  female  35.0      1   \n",
       "4                           Allen, Mr. William Henry    male  35.0      0   \n",
       "\n",
       "   Parch            Ticket     Fare Cabin Embarked  \n",
       "0      0         A/5 21171   7.2500   NaN        S  \n",
       "1      0          PC 17599  71.2833   C85        C  \n",
       "2      0  STON/O2. 3101282   7.9250   NaN        S  \n",
       "3      0            113803  53.1000  C123        S  \n",
       "4      0            373450   8.0500   NaN        S  "
      ]
     },
     "execution_count": 2,
     "metadata": {},
     "output_type": "execute_result"
    }
   ],
   "source": [
    "#Load the data set file\n",
    "file_name = 'titanic-data.csv'\n",
    "data = pd.read_csv(file_name)\n",
    "\n",
    "#Display first few entries of the dataset for a better understanding\n",
    "data.head()"
   ]
  },
  {
   "cell_type": "code",
   "execution_count": 3,
   "metadata": {},
   "outputs": [
    {
     "name": "stdout",
     "output_type": "stream",
     "text": [
      "<class 'pandas.core.frame.DataFrame'>\n",
      "RangeIndex: 891 entries, 0 to 890\n",
      "Data columns (total 12 columns):\n",
      "PassengerId    891 non-null int64\n",
      "Survived       891 non-null int64\n",
      "Pclass         891 non-null int64\n",
      "Name           891 non-null object\n",
      "Sex            891 non-null object\n",
      "Age            714 non-null float64\n",
      "SibSp          891 non-null int64\n",
      "Parch          891 non-null int64\n",
      "Ticket         891 non-null object\n",
      "Fare           891 non-null float64\n",
      "Cabin          204 non-null object\n",
      "Embarked       889 non-null object\n",
      "dtypes: float64(2), int64(5), object(5)\n",
      "memory usage: 83.6+ KB\n"
     ]
    }
   ],
   "source": [
    "#Check for any missing values \n",
    "data.info()"
   ]
  },
  {
   "cell_type": "markdown",
   "metadata": {},
   "source": [
    "As we can see from the above information, that out of the 891 passenger data we are missing Age, Cabin and Embarked data from 177, 687, 2 rows respectively.\n",
    "\n",
    "**Data Exploration**\n",
    "\n",
    "To analyse the data we explore the numeric data in the table (Survived, Pclass, Age, Sibsp, Parch, Fare)   *Not taking PassengerId*"
   ]
  },
  {
   "cell_type": "code",
   "execution_count": 4,
   "metadata": {},
   "outputs": [
    {
     "data": {
      "text/html": [
       "<div>\n",
       "<table border=\"1\" class=\"dataframe\">\n",
       "  <thead>\n",
       "    <tr style=\"text-align: right;\">\n",
       "      <th></th>\n",
       "      <th>Survived</th>\n",
       "      <th>Pclass</th>\n",
       "      <th>Age</th>\n",
       "      <th>SibSp</th>\n",
       "      <th>Parch</th>\n",
       "      <th>Fare</th>\n",
       "    </tr>\n",
       "  </thead>\n",
       "  <tbody>\n",
       "    <tr>\n",
       "      <th>count</th>\n",
       "      <td>891.000000</td>\n",
       "      <td>891.000000</td>\n",
       "      <td>714.000000</td>\n",
       "      <td>891.000000</td>\n",
       "      <td>891.000000</td>\n",
       "      <td>891.000000</td>\n",
       "    </tr>\n",
       "    <tr>\n",
       "      <th>mean</th>\n",
       "      <td>0.383838</td>\n",
       "      <td>2.308642</td>\n",
       "      <td>29.699118</td>\n",
       "      <td>0.523008</td>\n",
       "      <td>0.381594</td>\n",
       "      <td>32.204208</td>\n",
       "    </tr>\n",
       "    <tr>\n",
       "      <th>std</th>\n",
       "      <td>0.486592</td>\n",
       "      <td>0.836071</td>\n",
       "      <td>14.526497</td>\n",
       "      <td>1.102743</td>\n",
       "      <td>0.806057</td>\n",
       "      <td>49.693429</td>\n",
       "    </tr>\n",
       "    <tr>\n",
       "      <th>min</th>\n",
       "      <td>0.000000</td>\n",
       "      <td>1.000000</td>\n",
       "      <td>0.420000</td>\n",
       "      <td>0.000000</td>\n",
       "      <td>0.000000</td>\n",
       "      <td>0.000000</td>\n",
       "    </tr>\n",
       "    <tr>\n",
       "      <th>25%</th>\n",
       "      <td>0.000000</td>\n",
       "      <td>2.000000</td>\n",
       "      <td>20.125000</td>\n",
       "      <td>0.000000</td>\n",
       "      <td>0.000000</td>\n",
       "      <td>7.910400</td>\n",
       "    </tr>\n",
       "    <tr>\n",
       "      <th>50%</th>\n",
       "      <td>0.000000</td>\n",
       "      <td>3.000000</td>\n",
       "      <td>28.000000</td>\n",
       "      <td>0.000000</td>\n",
       "      <td>0.000000</td>\n",
       "      <td>14.454200</td>\n",
       "    </tr>\n",
       "    <tr>\n",
       "      <th>75%</th>\n",
       "      <td>1.000000</td>\n",
       "      <td>3.000000</td>\n",
       "      <td>38.000000</td>\n",
       "      <td>1.000000</td>\n",
       "      <td>0.000000</td>\n",
       "      <td>31.000000</td>\n",
       "    </tr>\n",
       "    <tr>\n",
       "      <th>max</th>\n",
       "      <td>1.000000</td>\n",
       "      <td>3.000000</td>\n",
       "      <td>80.000000</td>\n",
       "      <td>8.000000</td>\n",
       "      <td>6.000000</td>\n",
       "      <td>512.329200</td>\n",
       "    </tr>\n",
       "  </tbody>\n",
       "</table>\n",
       "</div>"
      ],
      "text/plain": [
       "         Survived      Pclass         Age       SibSp       Parch        Fare\n",
       "count  891.000000  891.000000  714.000000  891.000000  891.000000  891.000000\n",
       "mean     0.383838    2.308642   29.699118    0.523008    0.381594   32.204208\n",
       "std      0.486592    0.836071   14.526497    1.102743    0.806057   49.693429\n",
       "min      0.000000    1.000000    0.420000    0.000000    0.000000    0.000000\n",
       "25%      0.000000    2.000000   20.125000    0.000000    0.000000    7.910400\n",
       "50%      0.000000    3.000000   28.000000    0.000000    0.000000   14.454200\n",
       "75%      1.000000    3.000000   38.000000    1.000000    0.000000   31.000000\n",
       "max      1.000000    3.000000   80.000000    8.000000    6.000000  512.329200"
      ]
     },
     "execution_count": 4,
     "metadata": {},
     "output_type": "execute_result"
    }
   ],
   "source": [
    "## Subsetting the data\n",
    "dataSubset1 = data[['Survived','Pclass','Age','SibSp','Parch','Fare']]\n",
    "dataSubset1.describe()"
   ]
  },
  {
   "cell_type": "markdown",
   "metadata": {},
   "source": [
    "From the above table we can deduce the following:\n",
    "1. Only 38.38% of the passensengers survived\n",
    "2. A high mean of Pclass indicate that the graph will be left skewed and most of the passengers were in class 3\n",
    "3. Average age of passengers was 29.699, with oldest person of 80 years and youngest person of nearly 6 months\n",
    "4. Average fare paid by a customer was 32.2. The minimum fare of 0 suggest either these tickets were given for free or an error the maximum fare was 512 which suggest an outlier or error. The 75th percentile of the fair is 31 which is lower than the average, this suggests that the high fair might be an error. "
   ]
  },
  {
   "cell_type": "code",
   "execution_count": 5,
   "metadata": {},
   "outputs": [
    {
     "data": {
      "text/plain": [
       "Survived     0.0000\n",
       "Pclass       3.0000\n",
       "Age         28.0000\n",
       "SibSp        0.0000\n",
       "Parch        0.0000\n",
       "Fare        14.4542\n",
       "dtype: float64"
      ]
     },
     "execution_count": 5,
     "metadata": {},
     "output_type": "execute_result"
    }
   ],
   "source": [
    "dataSubset1.median()"
   ]
  },
  {
   "cell_type": "markdown",
   "metadata": {},
   "source": [
    "To further analyse the data we look at the medians of all the fields. We can see that:\n",
    "1. Most passengers did not survive\n",
    "2. Most passengers were in Pclass 3\n",
    "3. Maximum passengers were 28 years old\n",
    "4. The median of fare paid was 14.4542 "
   ]
  },
  {
   "cell_type": "markdown",
   "metadata": {},
   "source": [
    "By looking at the above information we would want to see how many people paid a very high fare (greater than 200). If only one or two passengers paid a very high price it might be an error."
   ]
  },
  {
   "cell_type": "code",
   "execution_count": 6,
   "metadata": {},
   "outputs": [
    {
     "data": {
      "text/html": [
       "<div>\n",
       "<table border=\"1\" class=\"dataframe\">\n",
       "  <thead>\n",
       "    <tr style=\"text-align: right;\">\n",
       "      <th></th>\n",
       "      <th>Survived</th>\n",
       "      <th>Pclass</th>\n",
       "      <th>Age</th>\n",
       "      <th>SibSp</th>\n",
       "      <th>Parch</th>\n",
       "      <th>Fare</th>\n",
       "    </tr>\n",
       "  </thead>\n",
       "  <tbody>\n",
       "    <tr>\n",
       "      <th>27</th>\n",
       "      <td>0</td>\n",
       "      <td>1</td>\n",
       "      <td>19.0</td>\n",
       "      <td>3</td>\n",
       "      <td>2</td>\n",
       "      <td>263.0000</td>\n",
       "    </tr>\n",
       "    <tr>\n",
       "      <th>88</th>\n",
       "      <td>1</td>\n",
       "      <td>1</td>\n",
       "      <td>23.0</td>\n",
       "      <td>3</td>\n",
       "      <td>2</td>\n",
       "      <td>263.0000</td>\n",
       "    </tr>\n",
       "    <tr>\n",
       "      <th>118</th>\n",
       "      <td>0</td>\n",
       "      <td>1</td>\n",
       "      <td>24.0</td>\n",
       "      <td>0</td>\n",
       "      <td>1</td>\n",
       "      <td>247.5208</td>\n",
       "    </tr>\n",
       "    <tr>\n",
       "      <th>258</th>\n",
       "      <td>1</td>\n",
       "      <td>1</td>\n",
       "      <td>35.0</td>\n",
       "      <td>0</td>\n",
       "      <td>0</td>\n",
       "      <td>512.3292</td>\n",
       "    </tr>\n",
       "    <tr>\n",
       "      <th>299</th>\n",
       "      <td>1</td>\n",
       "      <td>1</td>\n",
       "      <td>50.0</td>\n",
       "      <td>0</td>\n",
       "      <td>1</td>\n",
       "      <td>247.5208</td>\n",
       "    </tr>\n",
       "    <tr>\n",
       "      <th>311</th>\n",
       "      <td>1</td>\n",
       "      <td>1</td>\n",
       "      <td>18.0</td>\n",
       "      <td>2</td>\n",
       "      <td>2</td>\n",
       "      <td>262.3750</td>\n",
       "    </tr>\n",
       "    <tr>\n",
       "      <th>341</th>\n",
       "      <td>1</td>\n",
       "      <td>1</td>\n",
       "      <td>24.0</td>\n",
       "      <td>3</td>\n",
       "      <td>2</td>\n",
       "      <td>263.0000</td>\n",
       "    </tr>\n",
       "    <tr>\n",
       "      <th>377</th>\n",
       "      <td>0</td>\n",
       "      <td>1</td>\n",
       "      <td>27.0</td>\n",
       "      <td>0</td>\n",
       "      <td>2</td>\n",
       "      <td>211.5000</td>\n",
       "    </tr>\n",
       "    <tr>\n",
       "      <th>380</th>\n",
       "      <td>1</td>\n",
       "      <td>1</td>\n",
       "      <td>42.0</td>\n",
       "      <td>0</td>\n",
       "      <td>0</td>\n",
       "      <td>227.5250</td>\n",
       "    </tr>\n",
       "    <tr>\n",
       "      <th>438</th>\n",
       "      <td>0</td>\n",
       "      <td>1</td>\n",
       "      <td>64.0</td>\n",
       "      <td>1</td>\n",
       "      <td>4</td>\n",
       "      <td>263.0000</td>\n",
       "    </tr>\n",
       "    <tr>\n",
       "      <th>527</th>\n",
       "      <td>0</td>\n",
       "      <td>1</td>\n",
       "      <td>NaN</td>\n",
       "      <td>0</td>\n",
       "      <td>0</td>\n",
       "      <td>221.7792</td>\n",
       "    </tr>\n",
       "    <tr>\n",
       "      <th>557</th>\n",
       "      <td>0</td>\n",
       "      <td>1</td>\n",
       "      <td>NaN</td>\n",
       "      <td>0</td>\n",
       "      <td>0</td>\n",
       "      <td>227.5250</td>\n",
       "    </tr>\n",
       "    <tr>\n",
       "      <th>679</th>\n",
       "      <td>1</td>\n",
       "      <td>1</td>\n",
       "      <td>36.0</td>\n",
       "      <td>0</td>\n",
       "      <td>1</td>\n",
       "      <td>512.3292</td>\n",
       "    </tr>\n",
       "    <tr>\n",
       "      <th>689</th>\n",
       "      <td>1</td>\n",
       "      <td>1</td>\n",
       "      <td>15.0</td>\n",
       "      <td>0</td>\n",
       "      <td>1</td>\n",
       "      <td>211.3375</td>\n",
       "    </tr>\n",
       "    <tr>\n",
       "      <th>700</th>\n",
       "      <td>1</td>\n",
       "      <td>1</td>\n",
       "      <td>18.0</td>\n",
       "      <td>1</td>\n",
       "      <td>0</td>\n",
       "      <td>227.5250</td>\n",
       "    </tr>\n",
       "    <tr>\n",
       "      <th>716</th>\n",
       "      <td>1</td>\n",
       "      <td>1</td>\n",
       "      <td>38.0</td>\n",
       "      <td>0</td>\n",
       "      <td>0</td>\n",
       "      <td>227.5250</td>\n",
       "    </tr>\n",
       "    <tr>\n",
       "      <th>730</th>\n",
       "      <td>1</td>\n",
       "      <td>1</td>\n",
       "      <td>29.0</td>\n",
       "      <td>0</td>\n",
       "      <td>0</td>\n",
       "      <td>211.3375</td>\n",
       "    </tr>\n",
       "    <tr>\n",
       "      <th>737</th>\n",
       "      <td>1</td>\n",
       "      <td>1</td>\n",
       "      <td>35.0</td>\n",
       "      <td>0</td>\n",
       "      <td>0</td>\n",
       "      <td>512.3292</td>\n",
       "    </tr>\n",
       "    <tr>\n",
       "      <th>742</th>\n",
       "      <td>1</td>\n",
       "      <td>1</td>\n",
       "      <td>21.0</td>\n",
       "      <td>2</td>\n",
       "      <td>2</td>\n",
       "      <td>262.3750</td>\n",
       "    </tr>\n",
       "    <tr>\n",
       "      <th>779</th>\n",
       "      <td>1</td>\n",
       "      <td>1</td>\n",
       "      <td>43.0</td>\n",
       "      <td>0</td>\n",
       "      <td>1</td>\n",
       "      <td>211.3375</td>\n",
       "    </tr>\n",
       "  </tbody>\n",
       "</table>\n",
       "</div>"
      ],
      "text/plain": [
       "     Survived  Pclass   Age  SibSp  Parch      Fare\n",
       "27          0       1  19.0      3      2  263.0000\n",
       "88          1       1  23.0      3      2  263.0000\n",
       "118         0       1  24.0      0      1  247.5208\n",
       "258         1       1  35.0      0      0  512.3292\n",
       "299         1       1  50.0      0      1  247.5208\n",
       "311         1       1  18.0      2      2  262.3750\n",
       "341         1       1  24.0      3      2  263.0000\n",
       "377         0       1  27.0      0      2  211.5000\n",
       "380         1       1  42.0      0      0  227.5250\n",
       "438         0       1  64.0      1      4  263.0000\n",
       "527         0       1   NaN      0      0  221.7792\n",
       "557         0       1   NaN      0      0  227.5250\n",
       "679         1       1  36.0      0      1  512.3292\n",
       "689         1       1  15.0      0      1  211.3375\n",
       "700         1       1  18.0      1      0  227.5250\n",
       "716         1       1  38.0      0      0  227.5250\n",
       "730         1       1  29.0      0      0  211.3375\n",
       "737         1       1  35.0      0      0  512.3292\n",
       "742         1       1  21.0      2      2  262.3750\n",
       "779         1       1  43.0      0      1  211.3375"
      ]
     },
     "execution_count": 6,
     "metadata": {},
     "output_type": "execute_result"
    }
   ],
   "source": [
    "dataSubset2 = dataSubset1.loc[dataSubset1['Fare'] > 200]\n",
    "dataSubset2\n"
   ]
  },
  {
   "cell_type": "code",
   "execution_count": 7,
   "metadata": {},
   "outputs": [
    {
     "data": {
      "text/html": [
       "<div>\n",
       "<table border=\"1\" class=\"dataframe\">\n",
       "  <thead>\n",
       "    <tr style=\"text-align: right;\">\n",
       "      <th></th>\n",
       "      <th>Survived</th>\n",
       "      <th>Pclass</th>\n",
       "      <th>Age</th>\n",
       "      <th>SibSp</th>\n",
       "      <th>Parch</th>\n",
       "      <th>Fare</th>\n",
       "    </tr>\n",
       "  </thead>\n",
       "  <tbody>\n",
       "    <tr>\n",
       "      <th>count</th>\n",
       "      <td>20.000000</td>\n",
       "      <td>20.0</td>\n",
       "      <td>18.000000</td>\n",
       "      <td>20.000000</td>\n",
       "      <td>20.000000</td>\n",
       "      <td>20.000000</td>\n",
       "    </tr>\n",
       "    <tr>\n",
       "      <th>mean</th>\n",
       "      <td>0.700000</td>\n",
       "      <td>1.0</td>\n",
       "      <td>31.166667</td>\n",
       "      <td>0.750000</td>\n",
       "      <td>1.050000</td>\n",
       "      <td>279.308545</td>\n",
       "    </tr>\n",
       "    <tr>\n",
       "      <th>std</th>\n",
       "      <td>0.470162</td>\n",
       "      <td>0.0</td>\n",
       "      <td>12.926261</td>\n",
       "      <td>1.164158</td>\n",
       "      <td>1.099043</td>\n",
       "      <td>102.353391</td>\n",
       "    </tr>\n",
       "    <tr>\n",
       "      <th>min</th>\n",
       "      <td>0.000000</td>\n",
       "      <td>1.0</td>\n",
       "      <td>15.000000</td>\n",
       "      <td>0.000000</td>\n",
       "      <td>0.000000</td>\n",
       "      <td>211.337500</td>\n",
       "    </tr>\n",
       "    <tr>\n",
       "      <th>25%</th>\n",
       "      <td>0.000000</td>\n",
       "      <td>1.0</td>\n",
       "      <td>21.500000</td>\n",
       "      <td>0.000000</td>\n",
       "      <td>0.000000</td>\n",
       "      <td>226.088550</td>\n",
       "    </tr>\n",
       "    <tr>\n",
       "      <th>50%</th>\n",
       "      <td>1.000000</td>\n",
       "      <td>1.0</td>\n",
       "      <td>28.000000</td>\n",
       "      <td>0.000000</td>\n",
       "      <td>1.000000</td>\n",
       "      <td>247.520800</td>\n",
       "    </tr>\n",
       "    <tr>\n",
       "      <th>75%</th>\n",
       "      <td>1.000000</td>\n",
       "      <td>1.0</td>\n",
       "      <td>37.500000</td>\n",
       "      <td>1.250000</td>\n",
       "      <td>2.000000</td>\n",
       "      <td>263.000000</td>\n",
       "    </tr>\n",
       "    <tr>\n",
       "      <th>max</th>\n",
       "      <td>1.000000</td>\n",
       "      <td>1.0</td>\n",
       "      <td>64.000000</td>\n",
       "      <td>3.000000</td>\n",
       "      <td>4.000000</td>\n",
       "      <td>512.329200</td>\n",
       "    </tr>\n",
       "  </tbody>\n",
       "</table>\n",
       "</div>"
      ],
      "text/plain": [
       "        Survived  Pclass        Age      SibSp      Parch        Fare\n",
       "count  20.000000    20.0  18.000000  20.000000  20.000000   20.000000\n",
       "mean    0.700000     1.0  31.166667   0.750000   1.050000  279.308545\n",
       "std     0.470162     0.0  12.926261   1.164158   1.099043  102.353391\n",
       "min     0.000000     1.0  15.000000   0.000000   0.000000  211.337500\n",
       "25%     0.000000     1.0  21.500000   0.000000   0.000000  226.088550\n",
       "50%     1.000000     1.0  28.000000   0.000000   1.000000  247.520800\n",
       "75%     1.000000     1.0  37.500000   1.250000   2.000000  263.000000\n",
       "max     1.000000     1.0  64.000000   3.000000   4.000000  512.329200"
      ]
     },
     "execution_count": 7,
     "metadata": {},
     "output_type": "execute_result"
    }
   ],
   "source": [
    "dataSubset2.describe()"
   ]
  },
  {
   "cell_type": "markdown",
   "metadata": {},
   "source": [
    "As we can see from above information that the highest fare of 512.329 is not an error it is an outlier. \n",
    "We can also see that Pclass of 1 or a high fare cost increased the chances of survival. "
   ]
  },
  {
   "cell_type": "markdown",
   "metadata": {},
   "source": [
    "Now let us lable the data"
   ]
  },
  {
   "cell_type": "code",
   "execution_count": 8,
   "metadata": {},
   "outputs": [
    {
     "data": {
      "text/html": [
       "<div>\n",
       "<table border=\"1\" class=\"dataframe\">\n",
       "  <thead>\n",
       "    <tr style=\"text-align: right;\">\n",
       "      <th></th>\n",
       "      <th>PassengerId</th>\n",
       "      <th>Survived</th>\n",
       "      <th>Pclass</th>\n",
       "      <th>Name</th>\n",
       "      <th>Sex</th>\n",
       "      <th>Age</th>\n",
       "      <th>SibSp</th>\n",
       "      <th>Parch</th>\n",
       "      <th>Ticket</th>\n",
       "      <th>Fare</th>\n",
       "      <th>Cabin</th>\n",
       "      <th>Embarked</th>\n",
       "      <th>Survival</th>\n",
       "      <th>Class</th>\n",
       "      <th>Ports</th>\n",
       "    </tr>\n",
       "  </thead>\n",
       "  <tbody>\n",
       "    <tr>\n",
       "      <th>0</th>\n",
       "      <td>1</td>\n",
       "      <td>0</td>\n",
       "      <td>3</td>\n",
       "      <td>Braund, Mr. Owen Harris</td>\n",
       "      <td>male</td>\n",
       "      <td>22.0</td>\n",
       "      <td>1</td>\n",
       "      <td>0</td>\n",
       "      <td>A/5 21171</td>\n",
       "      <td>7.2500</td>\n",
       "      <td>NaN</td>\n",
       "      <td>S</td>\n",
       "      <td>Died</td>\n",
       "      <td>Third Class</td>\n",
       "      <td>Southampton</td>\n",
       "    </tr>\n",
       "    <tr>\n",
       "      <th>1</th>\n",
       "      <td>2</td>\n",
       "      <td>1</td>\n",
       "      <td>1</td>\n",
       "      <td>Cumings, Mrs. John Bradley (Florence Briggs Th...</td>\n",
       "      <td>female</td>\n",
       "      <td>38.0</td>\n",
       "      <td>1</td>\n",
       "      <td>0</td>\n",
       "      <td>PC 17599</td>\n",
       "      <td>71.2833</td>\n",
       "      <td>C85</td>\n",
       "      <td>C</td>\n",
       "      <td>Survived</td>\n",
       "      <td>First Class</td>\n",
       "      <td>Cherbourg</td>\n",
       "    </tr>\n",
       "    <tr>\n",
       "      <th>2</th>\n",
       "      <td>3</td>\n",
       "      <td>1</td>\n",
       "      <td>3</td>\n",
       "      <td>Heikkinen, Miss. Laina</td>\n",
       "      <td>female</td>\n",
       "      <td>26.0</td>\n",
       "      <td>0</td>\n",
       "      <td>0</td>\n",
       "      <td>STON/O2. 3101282</td>\n",
       "      <td>7.9250</td>\n",
       "      <td>NaN</td>\n",
       "      <td>S</td>\n",
       "      <td>Survived</td>\n",
       "      <td>Third Class</td>\n",
       "      <td>Southampton</td>\n",
       "    </tr>\n",
       "    <tr>\n",
       "      <th>3</th>\n",
       "      <td>4</td>\n",
       "      <td>1</td>\n",
       "      <td>1</td>\n",
       "      <td>Futrelle, Mrs. Jacques Heath (Lily May Peel)</td>\n",
       "      <td>female</td>\n",
       "      <td>35.0</td>\n",
       "      <td>1</td>\n",
       "      <td>0</td>\n",
       "      <td>113803</td>\n",
       "      <td>53.1000</td>\n",
       "      <td>C123</td>\n",
       "      <td>S</td>\n",
       "      <td>Survived</td>\n",
       "      <td>First Class</td>\n",
       "      <td>Southampton</td>\n",
       "    </tr>\n",
       "    <tr>\n",
       "      <th>4</th>\n",
       "      <td>5</td>\n",
       "      <td>0</td>\n",
       "      <td>3</td>\n",
       "      <td>Allen, Mr. William Henry</td>\n",
       "      <td>male</td>\n",
       "      <td>35.0</td>\n",
       "      <td>0</td>\n",
       "      <td>0</td>\n",
       "      <td>373450</td>\n",
       "      <td>8.0500</td>\n",
       "      <td>NaN</td>\n",
       "      <td>S</td>\n",
       "      <td>Died</td>\n",
       "      <td>Third Class</td>\n",
       "      <td>Southampton</td>\n",
       "    </tr>\n",
       "  </tbody>\n",
       "</table>\n",
       "</div>"
      ],
      "text/plain": [
       "   PassengerId  Survived  Pclass  \\\n",
       "0            1         0       3   \n",
       "1            2         1       1   \n",
       "2            3         1       3   \n",
       "3            4         1       1   \n",
       "4            5         0       3   \n",
       "\n",
       "                                                Name     Sex   Age  SibSp  \\\n",
       "0                            Braund, Mr. Owen Harris    male  22.0      1   \n",
       "1  Cumings, Mrs. John Bradley (Florence Briggs Th...  female  38.0      1   \n",
       "2                             Heikkinen, Miss. Laina  female  26.0      0   \n",
       "3       Futrelle, Mrs. Jacques Heath (Lily May Peel)  female  35.0      1   \n",
       "4                           Allen, Mr. William Henry    male  35.0      0   \n",
       "\n",
       "   Parch            Ticket     Fare Cabin Embarked  Survival        Class  \\\n",
       "0      0         A/5 21171   7.2500   NaN        S      Died  Third Class   \n",
       "1      0          PC 17599  71.2833   C85        C  Survived  First Class   \n",
       "2      0  STON/O2. 3101282   7.9250   NaN        S  Survived  Third Class   \n",
       "3      0            113803  53.1000  C123        S  Survived  First Class   \n",
       "4      0            373450   8.0500   NaN        S      Died  Third Class   \n",
       "\n",
       "         Ports  \n",
       "0  Southampton  \n",
       "1    Cherbourg  \n",
       "2  Southampton  \n",
       "3  Southampton  \n",
       "4  Southampton  "
      ]
     },
     "execution_count": 8,
     "metadata": {},
     "output_type": "execute_result"
    }
   ],
   "source": [
    "data['Survival'] = data.Survived.map({0 : 'Died', 1 : 'Survived'})\n",
    "data['Class'] = data.Pclass.map({1 : 'First Class', 2 : 'Second Class', 3 : 'Third Class'})\n",
    "data['Ports'] = data.Embarked.map({'C' : 'Cherbourg', 'Q' : 'Queenstown', 'S' : 'Southampton'})\n",
    "data.head()"
   ]
  },
  {
   "cell_type": "markdown",
   "metadata": {},
   "source": [
    "### Cleaning the Data (NA values)\n",
    "\n",
    "To get an accurate picture about the data we will need to clean it it, that is remove all the N/A values"
   ]
  },
  {
   "cell_type": "code",
   "execution_count": 9,
   "metadata": {},
   "outputs": [
    {
     "data": {
      "text/plain": [
       "PassengerId      0\n",
       "Survived         0\n",
       "Pclass           0\n",
       "Name             0\n",
       "Sex              0\n",
       "Age            177\n",
       "SibSp            0\n",
       "Parch            0\n",
       "Ticket           0\n",
       "Fare             0\n",
       "Cabin          687\n",
       "Embarked         2\n",
       "Survival         0\n",
       "Class            0\n",
       "Ports            2\n",
       "dtype: int64"
      ]
     },
     "execution_count": 9,
     "metadata": {},
     "output_type": "execute_result"
    }
   ],
   "source": [
    "data.isnull().sum()"
   ]
  },
  {
   "cell_type": "markdown",
   "metadata": {},
   "source": [
    "Here we can see all the missing records, the most important is the age. Therefore, we will clean that, by first checking the median and replacing N/A values by it"
   ]
  },
  {
   "cell_type": "code",
   "execution_count": 10,
   "metadata": {},
   "outputs": [
    {
     "data": {
      "text/plain": [
       "Survival\n",
       "Died        28.0\n",
       "Survived    28.0\n",
       "Name: Age, dtype: float64"
      ]
     },
     "execution_count": 10,
     "metadata": {},
     "output_type": "execute_result"
    }
   ],
   "source": [
    "data.groupby('Survival').Age.median()"
   ]
  },
  {
   "cell_type": "code",
   "execution_count": 11,
   "metadata": {},
   "outputs": [
    {
     "data": {
      "text/plain": [
       "<matplotlib.text.Text at 0x118b3add8>"
      ]
     },
     "execution_count": 11,
     "metadata": {},
     "output_type": "execute_result"
    },
    {
     "data": {
      "image/png": "[encoded data removed]",
      "text/plain": [
       "<matplotlib.figure.Figure at 0x118986940>"
      ]
     },
     "metadata": {},
     "output_type": "display_data"
    }
   ],
   "source": [
    "data.groupby('Survival')['Age'].get_group('Died').hist(label = 'Died', bins = 80)\n",
    "data.groupby('Survival')['Age'].get_group('Survived').hist(label = 'Survived', bins = 80)\n",
    "pltt.legend()\n",
    "pltt.title('Histogram of Age\\nby\\nSurvival')\n",
    "pltt.xlabel('Age')\n",
    "pltt.ylabel('Passengers')"
   ]
  },
  {
   "cell_type": "markdown",
   "metadata": {},
   "source": [
    "As we can see from above table and median age of groups (people who survived and people who perished) is 28.<br> Therefore, we can safely substitute N/A with 28. <br>\n",
    "From the histogram it is also interesting to note that younger people (in age group of 0 to 20) had a better chance of survival, as the number of younger people who survived was much more than those who perished"
   ]
  },
  {
   "cell_type": "code",
   "execution_count": 12,
   "metadata": {},
   "outputs": [
    {
     "data": {
      "text/plain": [
       "count    891.000000\n",
       "mean      29.361582\n",
       "std       13.019697\n",
       "min        0.420000\n",
       "25%       22.000000\n",
       "50%       28.000000\n",
       "75%       35.000000\n",
       "max       80.000000\n",
       "Name: Age, dtype: float64"
      ]
     },
     "execution_count": 12,
     "metadata": {},
     "output_type": "execute_result"
    }
   ],
   "source": [
    "data.Age = data.Age.fillna(data.Age.median())\n",
    "data.Age.describe()"
   ]
  },
  {
   "cell_type": "markdown",
   "metadata": {},
   "source": [
    "After filling up the N/A value we check how this change has affected the data. Here we can see that the mean decreased from 31.6 to 29.3, the std has increased from 12.93 to 13.01.\n",
    "This change is better than dropping all the 177 records."
   ]
  },
  {
   "cell_type": "markdown",
   "metadata": {},
   "source": [
    "Now we will write a subfucntion to describe all the variables"
   ]
  },
  {
   "cell_type": "code",
   "execution_count": 13,
   "metadata": {},
   "outputs": [],
   "source": [
    "def describe(data, var):\n",
    "    datasub = data.groupby('Survival')[[var]]\n",
    "    datasub2 = data.groupby(var)[['Survival']]\n",
    "    datasub3 = data[data.Survival == 'Survived'].groupby(var).count()['Survival']*100\n",
    "    \n",
    "    datasub4 = data[var].value_counts().sort_index()\n",
    "    print (datasub.describe())\n",
    "    print (\"Percentage of passengers survived \")\n",
    "    print (datasub3/datasub4)\n",
    "    sns.countplot(x = var, hue = \"Survived\", data=data)\n",
    "    stg = 'Histogram of ' + var + '\\nby\\nSurvival'\n",
    "    pltt.title(stg)\n",
    "\n",
    "\n",
    "    "
   ]
  },
  {
   "cell_type": "markdown",
   "metadata": {},
   "source": [
    "Now let us check for each variable the best chance of survival. <br>\n",
    "First, let us consider if sex of a person made a difference."
   ]
  },
  {
   "cell_type": "code",
   "execution_count": 14,
   "metadata": {},
   "outputs": [
    {
     "name": "stdout",
     "output_type": "stream",
     "text": [
      "                    Sex\n",
      "Survival               \n",
      "Died     count      549\n",
      "         unique       2\n",
      "         top       male\n",
      "         freq       468\n",
      "Survived count      342\n",
      "         unique       2\n",
      "         top     female\n",
      "         freq       233\n",
      "Percentage of passengers survived \n",
      "Sex\n",
      "female    74.203822\n",
      "male      18.890815\n",
      "dtype: float64\n"
     ]
    },
    {
     "data": {
      "image/png": "[encoded data removed]",
      "text/plain": [
       "<matplotlib.figure.Figure at 0x11bee0fd0>"
      ]
     },
     "metadata": {},
     "output_type": "display_data"
    }
   ],
   "source": [
    "describe(data,'Sex')"
   ]
  },
  {
   "cell_type": "markdown",
   "metadata": {},
   "source": [
    "As we can see from the above numbers that,\n",
    "1. females had a 74.2% chance of survival <br>\n",
    "2 . men only had a 18.89% chance of survival. <br>\n",
    "<br>\n",
    "Next, we will look if the socio economic status (SES) made any impact on chance of survival. It is denoted by Pclass. "
   ]
  },
  {
   "cell_type": "code",
   "execution_count": 15,
   "metadata": {},
   "outputs": [
    {
     "name": "stdout",
     "output_type": "stream",
     "text": [
      "                       Class\n",
      "Survival                    \n",
      "Died     count           549\n",
      "         unique            3\n",
      "         top     Third Class\n",
      "         freq            372\n",
      "Survived count           342\n",
      "         unique            3\n",
      "         top     First Class\n",
      "         freq            136\n",
      "Percentage of passengers survived \n",
      "Class\n",
      "First Class     62.962963\n",
      "Second Class    47.282609\n",
      "Third Class     24.236253\n",
      "dtype: float64\n"
     ]
    },
    {
     "data": {
      "image/png": "[encoded data removed]",
      "text/plain": [
       "<matplotlib.figure.Figure at 0x11bf6dc18>"
      ]
     },
     "metadata": {},
     "output_type": "display_data"
    }
   ],
   "source": [
    "describe(data,\"Class\")"
   ]
  },
  {
   "cell_type": "markdown",
   "metadata": {},
   "source": [
    "From the above tables and figures we can see that, <br> \n",
    "1. SES was 1 you had a 62.962% chance of survival<br>\n",
    "2. SES of 2 it dropped to 47.282% chance of survival <br>\n",
    "3. SES of 3 only 24.23% chance. <br> <br>\n",
    "Next, let use see if the port of Embarkment made a difference in the chance of survival."
   ]
  },
  {
   "cell_type": "code",
   "execution_count": 16,
   "metadata": {},
   "outputs": [
    {
     "name": "stdout",
     "output_type": "stream",
     "text": [
      "                       Ports\n",
      "Survival                    \n",
      "Died     count           549\n",
      "         unique            3\n",
      "         top     Southampton\n",
      "         freq            427\n",
      "Survived count           340\n",
      "         unique            3\n",
      "         top     Southampton\n",
      "         freq            217\n",
      "Percentage of passengers survived \n",
      "Ports\n",
      "Cherbourg      55.357143\n",
      "Queenstown     38.961039\n",
      "Southampton    33.695652\n",
      "dtype: float64\n"
     ]
    },
    {
     "data": {
      "image/png": "[encoded data removed]",
      "text/plain": [
       "<matplotlib.figure.Figure at 0x11c3f5780>"
      ]
     },
     "metadata": {},
     "output_type": "display_data"
    }
   ],
   "source": [
    "describe(data,\"Ports\")"
   ]
  },
  {
   "cell_type": "markdown",
   "metadata": {},
   "source": [
    "As we can see from the tables and figures, that \n",
    "1. Embarked from port C had a 55.35% chance of survival, <br>\n",
    "2. From port Q a 38.96% chance of survial and <br>\n",
    "3. Port S a 33.69% chance of survival. <br>\n",
    "<br><br>\n",
    "Next, let us see if having any family relative (siblings and spouces) affected chance of survival. "
   ]
  },
  {
   "cell_type": "code",
   "execution_count": 17,
   "metadata": {},
   "outputs": [
    {
     "name": "stdout",
     "output_type": "stream",
     "text": [
      "                     SibSp\n",
      "Survival                  \n",
      "Died     count  549.000000\n",
      "         mean     0.553734\n",
      "         std      1.288399\n",
      "         min      0.000000\n",
      "         25%      0.000000\n",
      "         50%      0.000000\n",
      "         75%      1.000000\n",
      "         max      8.000000\n",
      "Survived count  342.000000\n",
      "         mean     0.473684\n",
      "         std      0.708688\n",
      "         min      0.000000\n",
      "         25%      0.000000\n",
      "         50%      0.000000\n",
      "         75%      1.000000\n",
      "         max      4.000000\n",
      "Percentage of passengers survived \n",
      "0    34.539474\n",
      "1    53.588517\n",
      "2    46.428571\n",
      "3    25.000000\n",
      "4    16.666667\n",
      "5          NaN\n",
      "8          NaN\n",
      "dtype: float64\n"
     ]
    },
    {
     "data": {
      "image/png": "[encoded data removed]",
      "text/plain": [
       "<matplotlib.figure.Figure at 0x11c2525f8>"
      ]
     },
     "metadata": {},
     "output_type": "display_data"
    }
   ],
   "source": [
    "describe(data,\"SibSp\")"
   ]
  },
  {
   "cell_type": "markdown",
   "metadata": {},
   "source": [
    "As we can see from the above tables and graphsthat, <br>\n",
    "1. SibSP was 1 chance of survival was 53.588%, <br>\n",
    "2. SibSp was 2 chance of survival was 46.42%, <br>\n",
    "3. SibSp was 3 chance of survival was 25%, <br> \n",
    "4. SibSp was 4 chance of survival was 16.667% <br>\n",
    "5. SibSp was 5 and 8 chance of survival was 0%. <br> \n",
    "6. If you were traveling alone (SibSP =0)with no one with you your chance of survival was 34.539%. <br><br>\n",
    "Next, let us see if having any family relative (Parent and Child) affected chance of survival"
   ]
  },
  {
   "cell_type": "code",
   "execution_count": 18,
   "metadata": {},
   "outputs": [
    {
     "name": "stdout",
     "output_type": "stream",
     "text": [
      "                     Parch\n",
      "Survival                  \n",
      "Died     count  549.000000\n",
      "         mean     0.329690\n",
      "         std      0.823166\n",
      "         min      0.000000\n",
      "         25%      0.000000\n",
      "         50%      0.000000\n",
      "         75%      0.000000\n",
      "         max      6.000000\n",
      "Survived count  342.000000\n",
      "         mean     0.464912\n",
      "         std      0.771712\n",
      "         min      0.000000\n",
      "         25%      0.000000\n",
      "         50%      0.000000\n",
      "         75%      1.000000\n",
      "         max      5.000000\n",
      "Percentage of passengers survived \n",
      "0    34.365782\n",
      "1    55.084746\n",
      "2    50.000000\n",
      "3    60.000000\n",
      "4          NaN\n",
      "5    20.000000\n",
      "6          NaN\n",
      "dtype: float64\n"
     ]
    },
    {
     "data": {
      "image/png": "[encoded data removed]",
      "text/plain": [
       "<matplotlib.figure.Figure at 0x11c6acfd0>"
      ]
     },
     "metadata": {},
     "output_type": "display_data"
    }
   ],
   "source": [
    "describe(data,\"Parch\")"
   ]
  },
  {
   "cell_type": "markdown",
   "metadata": {},
   "source": [
    "From the above table and figure we can see that <br> \n",
    "1. If Parch was 3 your chance of survival was best with it being 60%. <br>\n",
    "2. Parch of 1 gave you a 55.084% chance of survival <br> \n",
    "3. Parch of 4 or 6 gave you a 0% chance of surival <br>\n",
    "4. Parch of 5 gave a 20% chance of survival <br>\n",
    "5. If you were travelling alone (that is a Parch of 0) gave you a 34.365% chance of survival <br> \n"
   ]
  },
  {
   "cell_type": "markdown",
   "metadata": {},
   "source": [
    "Let us divide the Age into age groups by the following table: <br>\n",
    "1. 0 - 6 = Infant <br>\n",
    "2. 6 - 12 = Child <br>\n",
    "3. 12 - 18 = Teenager <br>\n",
    "4. \">\" 18 = Adult <br>"
   ]
  },
  {
   "cell_type": "code",
   "execution_count": 19,
   "metadata": {},
   "outputs": [],
   "source": [
    "def age_groups(passenger):\n",
    "    Age= passenger\n",
    "    #print(Age)\n",
    "    if Age < 6:\n",
    "        return \"Infant\"\n",
    "    if Age >= 6 and Age < 12:\n",
    "        return \"Child\"\n",
    "    if Age >= 12 and Age < 18:\n",
    "        return \"Teenager\"\n",
    "    else:\n",
    "        return \"Adult\""
   ]
  },
  {
   "cell_type": "code",
   "execution_count": 20,
   "metadata": {},
   "outputs": [
    {
     "name": "stdout",
     "output_type": "stream",
     "text": [
      "                AgeGroup\n",
      "Survival                \n",
      "Died     count       549\n",
      "         unique        4\n",
      "         top       Adult\n",
      "         freq        497\n",
      "Survived count       342\n",
      "         unique        4\n",
      "         top       Adult\n",
      "         freq        281\n",
      "Percentage of passengers survived \n",
      "AgeGroup\n",
      "Adult       36.118252\n",
      "Child       33.333333\n",
      "Infant      70.454545\n",
      "Teenager    48.888889\n",
      "dtype: float64\n"
     ]
    },
    {
     "data": {
      "image/png": "[encoded data removed]",
      "text/plain": [
       "<matplotlib.figure.Figure at 0x11c88d630>"
      ]
     },
     "metadata": {},
     "output_type": "display_data"
    }
   ],
   "source": [
    "data['AgeGroup'] = data['Age'].apply(age_groups)\n",
    "describe(data, 'AgeGroup')"
   ]
  },
  {
   "cell_type": "markdown",
   "metadata": {},
   "source": [
    "From above table and figure we can see that:\n",
    "1. Infants had the best survival chance of 70.454%\n",
    "2. Teenagers had a survival chance of 48.89%\n",
    "3. Adults had a survival chance of 36.12%\n",
    "4. Children had a survival chance of 33.33%"
   ]
  },
  {
   "cell_type": "markdown",
   "metadata": {},
   "source": [
    "Let us define a new column called family. Family is if any memeber is present and combines both Parch and SibSp <br> If SibSP + Parch > 0, then family is 1"
   ]
  },
  {
   "cell_type": "code",
   "execution_count": 21,
   "metadata": {
    "collapsed": true
   },
   "outputs": [],
   "source": [
    "def family(passenger):\n",
    "    SibSp, Parch = passenger\n",
    "    if (SibSp + Parch > 0):\n",
    "        return \"With Family\"\n",
    "    else:\n",
    "        return \"Without Family\""
   ]
  },
  {
   "cell_type": "code",
   "execution_count": 22,
   "metadata": {},
   "outputs": [
    {
     "name": "stdout",
     "output_type": "stream",
     "text": [
      "                         Family\n",
      "Survival                       \n",
      "Died     count              549\n",
      "         unique               2\n",
      "         top     Without Family\n",
      "         freq               374\n",
      "Survived count              342\n",
      "         unique               2\n",
      "         top        With Family\n",
      "         freq               179\n",
      "Percentage of passengers survived \n",
      "Family\n",
      "With Family       50.564972\n",
      "Without Family    30.353818\n",
      "dtype: float64\n"
     ]
    },
    {
     "data": {
      "image/png": "[encoded data removed]",
      "text/plain": [
       "<matplotlib.figure.Figure at 0x11c6ef860>"
      ]
     },
     "metadata": {},
     "output_type": "display_data"
    }
   ],
   "source": [
    "data['Family'] = data[['SibSp','Parch']].apply(family, axis=1)\n",
    "describe(data, 'Family')"
   ]
  },
  {
   "cell_type": "markdown",
   "metadata": {},
   "source": [
    "### Statistical Analysis\n",
    "Till now we have seen just the percentage chance of survival for different groups.<br>\n",
    "Now, we will see if there is any statistical difference in survival chance of various groups. For this we will be using Chi square tests."
   ]
  },
  {
   "cell_type": "code",
   "execution_count": 23,
   "metadata": {},
   "outputs": [],
   "source": [
    "def chitest(data,var):\n",
    "    data_Check = pd.crosstab(data['Survival'], data[var])\n",
    "    [chi2, p, dof, ex] = sp.chi2_contingency(data_Check.values)\n",
    "    print (\"Chi Suare test: p value for \" + str(var) +\" is : \"+ str(p))"
   ]
  },
  {
   "cell_type": "code",
   "execution_count": 24,
   "metadata": {},
   "outputs": [
    {
     "name": "stdout",
     "output_type": "stream",
     "text": [
      "Chi Suare test: p value for Sex is : 1.19735706278e-58\n"
     ]
    }
   ],
   "source": [
    "chitest(data, 'Sex')"
   ]
  },
  {
   "cell_type": "code",
   "execution_count": 25,
   "metadata": {},
   "outputs": [
    {
     "name": "stdout",
     "output_type": "stream",
     "text": [
      "Chi Suare test: p value for Class is : 4.5492517113e-23\n"
     ]
    }
   ],
   "source": [
    "chitest(data, 'Class')"
   ]
  },
  {
   "cell_type": "code",
   "execution_count": 26,
   "metadata": {},
   "outputs": [
    {
     "name": "stdout",
     "output_type": "stream",
     "text": [
      "Chi Suare test: p value for AgeGroup is : 3.70048566119e-05\n"
     ]
    }
   ],
   "source": [
    "chitest(data, 'AgeGroup')"
   ]
  },
  {
   "cell_type": "code",
   "execution_count": 27,
   "metadata": {},
   "outputs": [
    {
     "name": "stdout",
     "output_type": "stream",
     "text": [
      "Chi Suare test: p value for Ports is : 1.76992228412e-06\n"
     ]
    }
   ],
   "source": [
    "chitest(data, 'Ports')"
   ]
  },
  {
   "cell_type": "code",
   "execution_count": 28,
   "metadata": {},
   "outputs": [
    {
     "name": "stdout",
     "output_type": "stream",
     "text": [
      "Chi Suare test: p value for Family is : 1.97265438465e-09\n"
     ]
    }
   ],
   "source": [
    "chitest(data, 'Family')"
   ]
  },
  {
   "cell_type": "markdown",
   "metadata": {},
   "source": [
    "As we can see from the Chi square tests that all of the factors are significant p value is less than 0.05.<br><br>\n",
    "Now, let us take a few of them together and see if there is a difference. "
   ]
  },
  {
   "cell_type": "code",
   "execution_count": 29,
   "metadata": {
    "collapsed": true
   },
   "outputs": [],
   "source": [
    "def par_dif(data, var1, var2):\n",
    "    sns.factorplot(x=var2, y=\"Survived\", hue=var1, data=data, kind=\"bar\", size=7, aspect=.8)\n",
    "    sns.plt.title(\"Survival Rate of \" + var1 + \" and  \" +var2)\n",
    "    print (data.groupby([var1, var2]).mean()['Survived'])\n",
    "    \n",
    "    \n"
   ]
  },
  {
   "cell_type": "code",
   "execution_count": 30,
   "metadata": {},
   "outputs": [
    {
     "name": "stdout",
     "output_type": "stream",
     "text": [
      "Sex     AgeGroup\n",
      "female  Adult       0.752896\n",
      "        Child       0.272727\n",
      "        Infant      0.761905\n",
      "        Teenager    0.826087\n",
      "male    Adult       0.165703\n",
      "        Child       0.384615\n",
      "        Infant      0.652174\n",
      "        Teenager    0.136364\n",
      "Name: Survived, dtype: float64\n"
     ]
    },
    {
     "data": {
      "image/png": "[encoded data removed]",
      "text/plain": [
       "<matplotlib.figure.Figure at 0x11c87a0f0>"
      ]
     },
     "metadata": {},
     "output_type": "display_data"
    }
   ],
   "source": [
    "par_dif(data, 'Sex', 'AgeGroup')"
   ]
  },
  {
   "cell_type": "markdown",
   "metadata": {},
   "source": [
    "From the above statistics we can see that: <br>\n",
    "1. Female teenagers had the highest chance of survival of 82.6% <br>\n",
    "2. Male teenagers had the lowest chance of survival of 13.6%"
   ]
  },
  {
   "cell_type": "code",
   "execution_count": 31,
   "metadata": {},
   "outputs": [
    {
     "name": "stdout",
     "output_type": "stream",
     "text": [
      "Sex     Class       \n",
      "female  First Class     0.968085\n",
      "        Second Class    0.921053\n",
      "        Third Class     0.500000\n",
      "male    First Class     0.368852\n",
      "        Second Class    0.157407\n",
      "        Third Class     0.135447\n",
      "Name: Survived, dtype: float64\n"
     ]
    },
    {
     "data": {
      "image/png": "[encoded data removed]",
      "text/plain": [
       "<matplotlib.figure.Figure at 0x11c165320>"
      ]
     },
     "metadata": {},
     "output_type": "display_data"
    }
   ],
   "source": [
    "par_dif(data, 'Sex', 'Class')"
   ]
  },
  {
   "cell_type": "markdown",
   "metadata": {},
   "source": [
    "From the above Statistics we can see that: <br>\n",
    "1. Females of Class 1 had the highest chance of survival of 96.8% <br>\n",
    "2. Males of Class 3 had the lowest chance of survival of 13.5%"
   ]
  },
  {
   "cell_type": "code",
   "execution_count": 32,
   "metadata": {},
   "outputs": [
    {
     "name": "stdout",
     "output_type": "stream",
     "text": [
      "Sex     Ports      \n",
      "female  Cherbourg      0.876712\n",
      "        Queenstown     0.750000\n",
      "        Southampton    0.689655\n",
      "male    Cherbourg      0.305263\n",
      "        Queenstown     0.073171\n",
      "        Southampton    0.174603\n",
      "Name: Survived, dtype: float64\n"
     ]
    },
    {
     "data": {
      "image/png": "[encoded data removed]",
      "text/plain": [
       "<matplotlib.figure.Figure at 0x11c866198>"
      ]
     },
     "metadata": {},
     "output_type": "display_data"
    }
   ],
   "source": [
    "par_dif(data, 'Sex', 'Ports')"
   ]
  },
  {
   "cell_type": "markdown",
   "metadata": {},
   "source": [
    "From the above statistics we can see that:<br>\n",
    "1. Females who embarked from port C had the highest chance of survival of 87.6%<br>\n",
    "2. Males who embarked from port Q had the lowest chance of survival of 7.3%"
   ]
  },
  {
   "cell_type": "code",
   "execution_count": 33,
   "metadata": {},
   "outputs": [
    {
     "name": "stdout",
     "output_type": "stream",
     "text": [
      "Sex     Family        \n",
      "female  With Family       0.712766\n",
      "        Without Family    0.785714\n",
      "male    With Family       0.271084\n",
      "        Without Family    0.155718\n",
      "Name: Survived, dtype: float64\n"
     ]
    },
    {
     "data": {
      "image/png": "[encoded data removed]",
      "text/plain": [
       "<matplotlib.figure.Figure at 0x11c41d710>"
      ]
     },
     "metadata": {},
     "output_type": "display_data"
    }
   ],
   "source": [
    "par_dif(data, 'Sex', 'Family')"
   ]
  },
  {
   "cell_type": "markdown",
   "metadata": {},
   "source": [
    "From above statistics we can see that:<br>\n",
    "1. Females without family had highest chance of survival of 78.57%<br>\n",
    "2. Males with family had a better chance of survival than men without families"
   ]
  },
  {
   "cell_type": "code",
   "execution_count": 34,
   "metadata": {},
   "outputs": [
    {
     "name": "stdout",
     "output_type": "stream",
     "text": [
      "AgeGroup  Class       \n",
      "Adult     First Class     0.612745\n",
      "          Second Class    0.409938\n",
      "          Third Class     0.217918\n",
      "Child     First Class     1.000000\n",
      "          Second Class    1.000000\n",
      "          Third Class     0.157895\n",
      "Infant    First Class     0.666667\n",
      "          Second Class    1.000000\n",
      "          Third Class     0.571429\n",
      "Teenager  First Class     1.000000\n",
      "          Second Class    0.666667\n",
      "          Third Class     0.322581\n",
      "Name: Survived, dtype: float64\n"
     ]
    },
    {
     "data": {
      "image/png": "[encoded data removed]",
      "text/plain": [
       "<matplotlib.figure.Figure at 0x11c3eae48>"
      ]
     },
     "metadata": {},
     "output_type": "display_data"
    }
   ],
   "source": [
    "par_dif(data, 'AgeGroup', 'Class')"
   ]
  },
  {
   "cell_type": "markdown",
   "metadata": {},
   "source": [
    "From above statistics we can see that:\n",
    "1. Children (AgeGroup 6-12) of Pclass 1 and 2 all survived. (Survival chance: 100%)\n",
    "2. Infants (AgeGroup 0-2) of Pclass 2 all survived. (Survival chance: 100%)\n",
    "3. Teenagers (AgeGroup 12-18) of Pclass 1 all survived. (Survival chance: 100%)\n",
    "4. Adults (AgeGroup 18 and above) of Pclass 3 had the lowest chance of Survival of 21.7%"
   ]
  },
  {
   "cell_type": "code",
   "execution_count": 35,
   "metadata": {},
   "outputs": [
    {
     "name": "stdout",
     "output_type": "stream",
     "text": [
      "AgeGroup  Ports      \n",
      "Adult     Cherbourg      0.520833\n",
      "          Queenstown     0.385714\n",
      "          Southampton    0.314947\n",
      "Child     Cherbourg      0.000000\n",
      "          Queenstown     0.000000\n",
      "          Southampton    0.400000\n",
      "Infant    Cherbourg      1.000000\n",
      "          Queenstown     0.000000\n",
      "          Southampton    0.676471\n",
      "Teenager  Cherbourg      0.714286\n",
      "          Queenstown     1.000000\n",
      "          Southampton    0.321429\n",
      "Name: Survived, dtype: float64\n"
     ]
    },
    {
     "data": {
      "image/png": "[encoded data removed]",
      "text/plain": [
       "<matplotlib.figure.Figure at 0x11c87a278>"
      ]
     },
     "metadata": {},
     "output_type": "display_data"
    }
   ],
   "source": [
    "par_dif(data, 'AgeGroup', 'Ports')"
   ]
  },
  {
   "cell_type": "markdown",
   "metadata": {},
   "source": [
    "From above statistics we can see that:\n",
    "1. Infants (AgeGroup 0-6) embarked from port C all survived. (Survival chance: 100%)\n",
    "2. Teenagers (AgeGroup 12-18) embarked from port Q all survived. (Survival chance: 100%)\n",
    "3. Some have 0% this might be due to fact that no one embarked from these ports in those age groups.\n",
    "4. Lowest non zero chance of survival for Adults embarked from port S of 31.49%"
   ]
  },
  {
   "cell_type": "code",
   "execution_count": 36,
   "metadata": {},
   "outputs": [
    {
     "name": "stdout",
     "output_type": "stream",
     "text": [
      "AgeGroup  Family        \n",
      "Adult     With Family       0.484848\n",
      "          Without Family    0.297665\n",
      "Child     With Family       0.347826\n",
      "          Without Family    0.000000\n",
      "Infant    With Family       0.697674\n",
      "          Without Family    1.000000\n",
      "Teenager  With Family       0.541667\n",
      "          Without Family    0.428571\n",
      "Name: Survived, dtype: float64\n"
     ]
    },
    {
     "data": {
      "image/png": "[encoded data removed]",
      "text/plain": [
       "<matplotlib.figure.Figure at 0x11d229a90>"
      ]
     },
     "metadata": {},
     "output_type": "display_data"
    }
   ],
   "source": [
    "par_dif(data, 'AgeGroup', 'Family')"
   ]
  },
  {
   "cell_type": "markdown",
   "metadata": {},
   "source": [
    "From above statistics we can see that:\n",
    "1. Infants (AgeGroup 0-6) without family on board all survived. (Survival chance: 100%)\n",
    "2. Children (AgeGroup 6-12) who did not have family on board perished (Survival chance: 0%)\n"
   ]
  },
  {
   "cell_type": "code",
   "execution_count": 37,
   "metadata": {},
   "outputs": [
    {
     "name": "stdout",
     "output_type": "stream",
     "text": [
      "Family          Ports      \n",
      "With Family     Cherbourg      0.674699\n",
      "                Queenstown     0.350000\n",
      "                Southampton    0.462151\n",
      "Without Family  Cherbourg      0.435294\n",
      "                Queenstown     0.403509\n",
      "                Southampton    0.256997\n",
      "Name: Survived, dtype: float64\n"
     ]
    },
    {
     "data": {
      "image/png": "[encoded data removed]",
      "text/plain": [
       "<matplotlib.figure.Figure at 0x11cf77400>"
      ]
     },
     "metadata": {},
     "output_type": "display_data"
    }
   ],
   "source": [
    "par_dif(data, 'Family', 'Ports')"
   ]
  },
  {
   "cell_type": "markdown",
   "metadata": {},
   "source": [
    "From above statistics we can see that:\n",
    "1. Irrespective of whether people had family on board or not. People who embarked from port C had a higher chance of survival than people who embarked from other ports."
   ]
  },
  {
   "cell_type": "markdown",
   "metadata": {},
   "source": [
    "## Conclusions:\n",
    "\n",
    "On the faithful day of April 15 1912, the RMS Titanic sank after colliding with an ice berg killing 1502 out of 2224 passengers and crew. The following about the dataset should be noted:<br>\n",
    "In the Kaggle dataset we have information of only 891 passgengers and none of the crew. <br>\n",
    "In reality only 32.4% of all souls survived the disaster but according to the dataset 38.38% survived.<br>\n",
    "Information about Age is missing, we had to assume the missing age as the median age, which might influence the result <br>\n",
    "A lot of information about cabin is missing, therefore we have not counted for the cabin number in our calculation. If we knew cabin numbers we could do further analysis if distance from life boat made a difference<br> \n",
    "\n",
    "According to the data we can conclude the following:\n",
    "1. Age, sex, port of embarkment, socio economic all were important for the survival.\n",
    "2. People who embarked from port C had a better chance of survival (for both males and females)\n",
    "3. Having family on board increased the chance of survival (except for Infants)\n",
    "4. Males emabarked from port Q had the lowest chance of survival  (apart from 0%) \n",
    "5. Females had a better chance of survival than men (except in AgeGroup of 6-12) \n",
    "6. Some groups had a 100% chance of survival (explained above) \n",
    "\n",
    "\n",
    "*Note:*\n",
    "1. Some values may be 0 dues to missing values or there was no one fitting the criteris\n",
    "2. Some have 100% chance of survival this may be due to fact that there was 1 passenger fitting the criteria who survived. \n",
    "3. Above analysis does not guarantee anything as a alot of data is missing"
   ]
  },
  {
   "cell_type": "markdown",
   "metadata": {},
   "source": [
    "## References:\n",
    "1. Annova and box plots: http://www.marsja.se/four-ways-to-conduct-one-way-anovas-using-python/ \n",
    "2. Kaggle informatiom: https://www.kaggle.com/c/titanic\n",
    "3. Pandas tutorial: http://pandas.pydata.org/pandas-docs/stable/ \n",
    "4. Seaborn tutorial:  https://stanford.edu/~mwaskom/software/seaborn/tutorial.html\n",
    "5. Coding queries: https://stackoverflow.com\n",
    "6. Guidance to start: https://github.com/rahulravindran0108/Titanic-Survival-Exploraton\n"
   ]
  }
 ],
 "metadata": {
  "kernelspec": {
   "display_name": "Python 2",
   "language": "python",
   "name": "python2"
  },
  "language_info": {
   "codemirror_mode": {
    "name": "ipython",
    "version": 2
   },
   "file_extension": ".py",
   "mimetype": "text/x-python",
   "name": "python",
   "nbconvert_exporter": "python",
   "pygments_lexer": "ipython2",
   "version": "2.7.13"
  }
 },
 "nbformat": 4,
 "nbformat_minor": 2
}
